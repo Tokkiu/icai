{
 "cells": [
  {
   "cell_type": "code",
   "execution_count": 9,
   "id": "028f4b68-dfef-4801-b663-5d470909f5e4",
   "metadata": {
    "execution": {
     "iopub.execute_input": "2021-10-27T15:52:53.081561Z",
     "iopub.status.busy": "2021-10-27T15:52:53.081202Z",
     "iopub.status.idle": "2021-10-27T15:52:53.092091Z",
     "shell.execute_reply": "2021-10-27T15:52:53.091218Z",
     "shell.execute_reply.started": "2021-10-27T15:52:53.081523Z"
    },
    "tags": []
   },
   "outputs": [],
   "source": [
    "rnn = nn.GRU(10, 20, 2, bidirectional=True)\n",
    "inp = torch.randn(5, 3, 10)\n",
    "h0 = torch.randn(4, 3, 20)\n",
    "output, hn = rnn(inp, h0)"
   ]
  },
  {
   "cell_type": "code",
   "execution_count": 10,
   "id": "de5af1ac-bc83-46c0-a961-f45962a282e9",
   "metadata": {
    "execution": {
     "iopub.execute_input": "2021-10-27T15:52:54.313053Z",
     "iopub.status.busy": "2021-10-27T15:52:54.312712Z",
     "iopub.status.idle": "2021-10-27T15:52:54.318477Z",
     "shell.execute_reply": "2021-10-27T15:52:54.317578Z",
     "shell.execute_reply.started": "2021-10-27T15:52:54.313008Z"
    },
    "tags": []
   },
   "outputs": [
    {
     "data": {
      "text/plain": [
       "torch.Size([5, 3, 40])"
      ]
     },
     "execution_count": 10,
     "metadata": {},
     "output_type": "execute_result"
    }
   ],
   "source": [
    "output.shape"
   ]
  },
  {
   "cell_type": "code",
   "execution_count": 4,
   "id": "c3c1af44-e676-4b18-8b80-61de307365d9",
   "metadata": {
    "execution": {
     "iopub.execute_input": "2021-10-27T15:50:54.063913Z",
     "iopub.status.busy": "2021-10-27T15:50:54.063495Z",
     "iopub.status.idle": "2021-10-27T15:50:54.068406Z",
     "shell.execute_reply": "2021-10-27T15:50:54.067170Z",
     "shell.execute_reply.started": "2021-10-27T15:50:54.063873Z"
    },
    "tags": []
   },
   "outputs": [],
   "source": [
    "from torch import nn \n",
    "import torch"
   ]
  },
  {
   "cell_type": "code",
   "execution_count": null,
   "id": "0a34ab21-fbca-483e-a6e4-9d00c4822a4a",
   "metadata": {},
   "outputs": [],
   "source": []
  }
 ],
 "metadata": {
  "kernelspec": {
   "display_name": "Python 3",
   "language": "python",
   "name": "python3"
  },
  "language_info": {
   "codemirror_mode": {
    "name": "ipython",
    "version": 3
   },
   "file_extension": ".py",
   "mimetype": "text/x-python",
   "name": "python",
   "nbconvert_exporter": "python",
   "pygments_lexer": "ipython3",
   "version": "3.8.8"
  }
 },
 "nbformat": 4,
 "nbformat_minor": 5
}
